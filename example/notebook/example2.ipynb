{
 "cells": [
  {
   "cell_type": "markdown",
   "metadata": {},
   "source": [
    "# Example 1\n",
    "\n",
    "This an example of a typical graphflow that can be used to experiment things.\n",
    "\n",
    "## Setup\n",
    "\n",
    "Setup script to launch the Matlab environment"
   ]
  },
  {
   "cell_type": "code",
   "execution_count": 1,
   "metadata": {},
   "outputs": [
    {
     "name": "stdout",
     "output_type": "stream",
     "text": [
      "Project root C:\\Users\\jahsue\\PycharmProjects\\dissertation\\src\\code\\matlab\n",
      "Configuration loaded from C:\\Users\\jahsue\\PycharmProjects\\dissertation\\src\\code\\matlab\\config.json\n",
      "Seed up-to-date\n",
      "\n"
     ]
    }
   ],
   "source": [
    "run([topseed() filesep 'setup.m'])"
   ]
  },
  {
   "cell_type": "markdown",
   "metadata": {},
   "source": [
    "## Experiment\n"
   ]
  },
  {
   "cell_type": "code",
   "execution_count": 6,
   "metadata": {},
   "outputs": [
    {
     "name": "stdout",
     "output_type": "stream",
     "text": [
      "Retrieve existing work session \"s1\" for context \"nbsession_30b33662d68565678864d6bd8ec7e6ab\"\n",
      "\n"
     ]
    }
   ],
   "source": [
    "%plot native\n",
    "\n",
    "sess = 's1';\n",
    "explo = nbsession(sess);\n",
    "\n",
    "switch sess\n",
    "    case 's1'\n",
    "        fcn = @fcn1;\n",
    "    case 's2'\n",
    "        fcn = @fcn1bis;\n",
    "end\n",
    "\n",
    "explo.addPip('p1','matfile');\n",
    "explo.addPip('p2','date');\n",
    "\n",
    "explo.addFcn('m1',fcn,{},{'p1','p2'});\n",
    "explo.addFcn('m2',@fcn2,{'m1_p2','m1_p1'},{'p1'});\n",
    "explo.addFcn('m3',@fcn3,{'m1_p1','m2_p1'},{});\n",
    "\n",
    "\n",
    "explo.init();"
   ]
  },
  {
   "cell_type": "markdown",
   "metadata": {},
   "source": [
    "## Commands\n",
    "\n",
    "List of commands commonly used:\n",
    "\n",
    "Run until node m3 `explo.run('-e:m3');` <br>\n",
    "Run one class `explo.run('-c:root');`<br>\n",
    "Run only needed nodes to compute end node `explo.run('-e:d4');`<br>\n",
    "Run only needed nodes to compute end node and force their computation `explo.run('-e:d4-m:f');`<br>\n",
    "Run all processing nodes `explo.run('-c:root');` or `explo.run('-c:branch');`<br>\n",
    "Open the Matlab file in Matlab IDE `edit('testexp2.m');`<br>\n",
    "Retrieve its absolute path `which('testexp2.m');`<br>\n",
    "Get the experiment information `explo.info()`<br>"
   ]
  },
  {
   "cell_type": "markdown",
   "metadata": {},
   "source": [
    "## Run"
   ]
  },
  {
   "cell_type": "code",
   "execution_count": 4,
   "metadata": {},
   "outputs": [
    {
     "name": "stdout",
     "output_type": "stream",
     "text": [
      "--- Function @fcn1 \"m1\" <branch>\n",
      "Task       =   First test function\n",
      "Input(s)   = [  ]\n",
      "Output(s)  = [ m1_p1 | m1_p2 ]\n",
      "Action     = Compute function signature (started on 26-Feb-2019 11:12:22)...\n",
      "             |--- Elapsed time is 0.036414 seconds.\n",
      "Decision   = RETRIEVE (same signatures)...\n",
      "--- Function @fcn2 \"m2\" <branch>\n",
      "Task       =   Second test function\n",
      "Input(s)   = [ m1_p2 | m1_p1 ]\n",
      "Output(s)  = [ m2_p1 ]\n",
      "Action     = Compute function signature (started on 26-Feb-2019 11:12:22)...\n",
      "             |--- Elapsed time is 0.035824 seconds.\n",
      "Decision   = RETRIEVE (same signatures)...\n",
      "--- Function @fcn3 \"m3\" <branch>\n",
      "Task       =   Third test function\n",
      "Input(s)   = [ m1_p1 | m2_p1 ]\n",
      "Output(s)  = [  ]\n",
      "Action     = Compute function signature (started on 26-Feb-2019 11:12:22)...\n",
      "             |--- Elapsed time is 0.03149 seconds.\n",
      "Decision   = RETRIEVE (same signatures)...\n",
      "\n"
     ]
    }
   ],
   "source": [
    "explo.run('-e:m3');"
   ]
  },
  {
   "cell_type": "markdown",
   "metadata": {},
   "source": [
    "## Info"
   ]
  },
  {
   "cell_type": "code",
   "execution_count": 5,
   "metadata": {},
   "outputs": [
    {
     "name": "stdout",
     "output_type": "stream",
     "text": [
      "=== I/ CONTEXT\n",
      "Context name \"nbsession_30b33662d68565678864d6bd8ec7e6ab\"\n",
      "1) Session \"s1\": Last init = 26-Feb-2019 11:12:16 | Variable cache = 3 files - 2E+03 bytes\n",
      "2) Session \"sess1\": Last init = 23-Oct-2018 15:23:56 | Variable cache = 3 files - 6E+02 bytes\n",
      "3) Session \"sess2\": Last init = 26-Sep-2018 16:42:22 | Variable cache = 3 files - 6E+02 bytes\n",
      "\n",
      "=== II/ SESSION HISTORY\n",
      "Session name \"s1\"\n",
      "1) Init (23-Oct-2018 15:28:44): 3 functions | 3 variables | 2 pipeline classes | File = \"20181023T152844513.mat\"\n",
      "--- Execution (23-Oct-2018 15:30:03): Command = \"-e:m3\" | Status = \"finished\" | Duration = 8.6702 seconds | Error = 0\n",
      "2) Init (23-Oct-2018 15:32:47): 3 functions | 3 variables | 2 pipeline classes | File = \"20181023T153247892.mat\"\n",
      "--- Execution (23-Oct-2018 15:32:57): Command = \"-e:m3\" | Status = \"finished\" | Duration = 0.95215 seconds | Error = 0\n",
      "3) Init (23-Oct-2018 15:44:08): 3 functions | 3 variables | 2 pipeline classes | File = \"20181023T154408101.mat\"\n",
      "--- Execution (23-Oct-2018 15:44:16): Command = \"-e:m3\" | Status = \"finished\" | Duration = 0.88888 seconds | Error = 0\n",
      "4) Init (23-Oct-2018 15:44:25): 3 functions | 3 variables | 2 pipeline classes | File = \"20181023T154425840.mat\"\n",
      "5) Init (30-Jan-2019 00:50:15): 3 functions | 3 variables | 2 pipeline classes | File = \"20190130T005015407.mat\"\n",
      "--- Execution (30-Jan-2019 00:50:22): Command = \"-e:m3\" | Status = \"finished\" | Duration = 6.1708 seconds | Error = 0\n",
      "6) Init (30-Jan-2019 00:52:54): 3 functions | 3 variables | 2 pipeline classes | File = \"20190130T005254571.mat\"\n",
      "--- Execution (30-Jan-2019 00:53:06): Command = \"-e:m3\" | Status = \"finished\" | Duration = 5.9607 seconds | Error = 0\n",
      "7) Init (26-Feb-2019 11:12:04): 3 functions | 3 variables | 2 pipeline classes | File = \"20190226T111204271.mat\"\n",
      "8) Init (26-Feb-2019 11:12:16): 3 functions | 3 variables | 2 pipeline classes | File = \"20190226T111216676.mat\"\n",
      "--- Execution (26-Feb-2019 11:12:21): Command = \"-e:m3\" | Status = \"finished\" | Duration = 1.8069 seconds | Error = 0\n",
      "\n",
      "=== III/ SESSION VARIABLES\n",
      "1) Variable \"m1_p2\": File = \"m1_p2.mat\" (30-Jan-2019 00:53:09) - 2E+03 bytes | Class = date\n",
      "2) Variable \"m1_p1\": File = \"m1_p1.mat\" (30-Jan-2019 00:53:09) - 2E+02 bytes | Class = matfile\n",
      "3) Variable \"m2_p1\": File = \"m2_p1.mat\" (30-Jan-2019 00:53:12) - 2E+02 bytes | Class = matfile\n",
      "\n",
      "=== IV/ SESSION FUNCTIONS\n",
      "1) Function @fcn1: Name = \"m1\" | Class = branch | Last change = 30-Jan-2019 00:52:35\n",
      "--- Inputs = [  ]\n",
      "--- Outputs = [ a \"m1_p1\" | b \"m1_p2\" ]\n",
      "--- Details \"edit('C:\\Users\\jahsue\\PycharmProjects\\dissertation\\src\\code\\matlab\\lib\\test\\fcn1.m')\":\n",
      "    >>>  First test function\n",
      "    >>>\n",
      "2) Function @fcn2: Name = \"m2\" | Class = branch | Last change = 24-Oct-2018 15:16:59\n",
      "--- Inputs = [ a \"m1_p2\" | b \"m1_p1\" ]\n",
      "--- Outputs = [ c \"m2_p1\" ]\n",
      "--- Details \"edit('C:\\Users\\jahsue\\PycharmProjects\\dissertation\\src\\code\\matlab\\lib\\test\\fcn2.m')\":\n",
      "    >>>  Second test function\n",
      "    >>>\n",
      "3) Function @fcn3: Name = \"m3\" | Class = branch | Last change = 23-Oct-2018 15:26:17\n",
      "--- Inputs = [ a \"m1_p1\" | b \"m2_p1\" ]\n",
      "--- Outputs = [  ]\n",
      "--- Details \"edit('C:\\Users\\jahsue\\PycharmProjects\\dissertation\\src\\code\\matlab\\lib\\test\\fcn3.m')\":\n",
      "    >>>  Third test function\n",
      "    >>>\n",
      "\n"
     ]
    }
   ],
   "source": [
    "explo.info()"
   ]
  },
  {
   "cell_type": "code",
   "execution_count": null,
   "metadata": {},
   "outputs": [],
   "source": []
  }
 ],
 "metadata": {
  "kernelspec": {
   "display_name": "Matlab",
   "language": "matlab",
   "name": "matlab"
  },
  "language_info": {
   "codemirror_mode": "octave",
   "file_extension": ".m",
   "help_links": [
    {
     "text": "MetaKernel Magics",
     "url": "https://github.com/calysto/metakernel/blob/master/metakernel/magics/README.md"
    }
   ],
   "mimetype": "text/x-octave",
   "name": "matlab",
   "version": "0.15.1"
  }
 },
 "nbformat": 4,
 "nbformat_minor": 2
}
