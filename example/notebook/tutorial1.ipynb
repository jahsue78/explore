{
 "cells": [
  {
   "cell_type": "markdown",
   "metadata": {},
   "source": [
    "<style>\n",
    "code {\n",
    "    color:red !important;\n",
    "}\n",
    "</style>\n",
    "\n",
    "# Explore\n",
    "\n",
    "Explore is a tool that allows you to compute a dataflow graph in Matlab.\n",
    "\n",
    "## Setup\n",
    "\n",
    "We clear and setup paths."
   ]
  },
  {
   "cell_type": "code",
   "execution_count": 1,
   "metadata": {},
   "outputs": [
    {
     "name": "stdout",
     "output_type": "stream",
     "text": [
      "\n"
     ]
    }
   ],
   "source": [
    "warning('off');\n",
    "rmpath(genpath([pwd filesep '..' filesep '..' filesep 'test']));\n",
    "rmpath(genpath([pwd filesep '..' filesep '..' filesep 'example']));\n",
    "warning('on');\n",
    "addpath(genpath([pwd filesep '..' filesep '..' filesep 'src']));\n",
    "addpath(genpath([pwd filesep '..' filesep '..' filesep 'example' filesep 'fcn']));"
   ]
  },
  {
   "cell_type": "markdown",
   "metadata": {},
   "source": [
    "## Session\n",
    "\n",
    "You need to define a session by its name. This allows you to retrieve the session from other notebooks or experiments. A session contains the history of the launched nodes of the dataflow graph. The session is created in the context of the calling function, here `nbsession()`."
   ]
  },
  {
   "cell_type": "code",
   "execution_count": 9,
   "metadata": {},
   "outputs": [
    {
     "name": "stdout",
     "output_type": "stream",
     "text": [
      "Explore folder \"C:\\Users\\jahsue\\explo\"\n",
      "Retrieve existing work session \"sess1\" for context \"nbsession_26a0b20876a1f9a2e4df2a996232c94a\"\n",
      "\n"
     ]
    }
   ],
   "source": [
    "sess = 'sess1';\n",
    "explo = nbsession(sess);"
   ]
  },
  {
   "cell_type": "markdown",
   "metadata": {},
   "source": [
    "Depending on the session (which acts as a context), you also can switch the nodes. A concrete example is to switch data node depending you are experimenting on the entire data set or only a few samples which could be the case when you are trying to debug your code."
   ]
  },
  {
   "cell_type": "code",
   "execution_count": 10,
   "metadata": {},
   "outputs": [
    {
     "name": "stdout",
     "output_type": "stream",
     "text": [
      "\n"
     ]
    }
   ],
   "source": [
    "switch sess\n",
    "    case 'sess1'\n",
    "        fcn = @fcnTestexp1;\n",
    "    case 'sess2'\n",
    "        fcn = @fcnTestexp1bis;\n",
    "end"
   ]
  },
  {
   "cell_type": "markdown",
   "metadata": {},
   "source": [
    "## Pipe\n",
    "\n",
    "You need to define the pipes you will use. A pipe is a way to identify the data that is put in it. If another node needs the data to compute its code, it checks the signature of the data before loading it. It compares this signature with the signature used during the last computation. If the code and its dependencies did not change and the inputs signature did not change, the node code will not be computed.\n",
    "\n",
    "\n",
    "Everytime you create a pipe, you need to define its signature type. For the moment, you have the choice between 2 different types: <br>\n",
    "1) **Matfile** (`'matfile'`): it hashes the content of the Matlab file payload and save it as signature. A description of MAT-file format (including header and payload definition) can be found [here](https://maxwell.ict.griffith.edu.au/spl/matlab-page/matfile_format.pdf).<br>\n",
    "2) **Date** (`'date'`): it signs with the Matlab file save date. This kind of signature is suited for big data files."
   ]
  },
  {
   "cell_type": "code",
   "execution_count": 11,
   "metadata": {},
   "outputs": [
    {
     "name": "stdout",
     "output_type": "stream",
     "text": [
      "\n"
     ]
    }
   ],
   "source": [
    "explo.addPip('s1','matfile');\n",
    "explo.addPip('s2','date');\n",
    "explo.addPip('s3','auto');"
   ]
  },
  {
   "cell_type": "markdown",
   "metadata": {},
   "source": [
    "## Variable"
   ]
  },
  {
   "cell_type": "code",
   "execution_count": 12,
   "metadata": {},
   "outputs": [
    {
     "name": "stdout",
     "output_type": "stream",
     "text": [
      "\n"
     ]
    }
   ],
   "source": [
    "explo.addVar('v1','s3');"
   ]
  },
  {
   "cell_type": "markdown",
   "metadata": {},
   "source": [
    "## Node"
   ]
  },
  {
   "cell_type": "code",
   "execution_count": 13,
   "metadata": {},
   "outputs": [
    {
     "name": "stdout",
     "output_type": "stream",
     "text": [
      "\n"
     ]
    }
   ],
   "source": [
    "explo.addFcn('m1',fcn,{},{'s1','s2'},'class','branch');\n",
    "explo.addFcn('m2',@fcnTestexp2,{'m1_s2','m1_s1','v1_s3'},{'s1'});\n",
    "explo.addFcn('m3',@fcnTestexp3,{'m1_s1','m2_s1'},{'s3'},'class','leaf');"
   ]
  },
  {
   "cell_type": "markdown",
   "metadata": {},
   "source": [
    "## Init\n",
    "\n",
    "To init a graph, call the following method. However the magic command <code>%plot native</code> should be called prior to that to ensure the plot is not closed at the end of the command (closing the plot and putting the image of the axe in the output of the notebook is the standard behavior <code>%plot</code>). \n",
    "\n",
    "Indeed, if the plot is closed, the you will not be able to run the graph. This was intentionally implemented in the native Matlab IDE in order to ensure multiple instances of the graph are not initialized. This will hopefully be changed in a near future."
   ]
  },
  {
   "cell_type": "code",
   "execution_count": 14,
   "metadata": {},
   "outputs": [
    {
     "name": "stdout",
     "output_type": "stream",
     "text": [
      "\n"
     ]
    }
   ],
   "source": [
    "%plot native\n",
    "explo.init();"
   ]
  },
  {
   "cell_type": "markdown",
   "metadata": {},
   "source": [
    "## Run\n",
    "\n",
    "Run the graph to the end node <code>m3</code>. In the meanwhile, take a look at the Matlab figure."
   ]
  },
  {
   "cell_type": "code",
   "execution_count": 16,
   "metadata": {},
   "outputs": [
    {
     "name": "stdout",
     "output_type": "stream",
     "text": [
      "Action     = Save auto [matfile-v6] output \"v1_s3\" (started on 10-Apr-2019 17:30:06)...\n",
      "             |--- Elapsed time is 0.0057053 seconds.\n",
      "Action     = Compute signature of output \"v1_s3\" (started on 10-Apr-2019 17:30:06)...\n",
      "             |--- Elapsed time is 0.010947 seconds.\n",
      "--- Function @fcnTestexp1 \"m1\" <branch>\n",
      "Task       =   First test function\n",
      "Input(s)   = [  ]\n",
      "Output(s)  = [ m1_s1 | m1_s2 ]\n",
      "Action     = Compute function signature (started on 10-Apr-2019 17:30:06)...\n",
      "             |--- Elapsed time is 0.023213 seconds.\n",
      "Decision   = RETRIEVE (same signatures)...\n",
      "--- Function @fcnTestexp2 \"m2\" <branch>\n",
      "Task       =   Second test function\n",
      "Input(s)   = [ m1_s2 | m1_s1 | v1_s3 ]\n",
      "Output(s)  = [ m2_s1 ]\n",
      "Action     = Compute function signature (started on 10-Apr-2019 17:30:06)...\n",
      "             |--- Elapsed time is 0.023135 seconds.\n",
      "Decision   = COMPUTE (function changed)...\n",
      "Action     = Load input \"m1_s2\" (started on 10-Apr-2019 17:30:06)...\n",
      "             |--- Elapsed time is 0.0033732 seconds.\n",
      "Action     = Load input \"m1_s1\" (started on 10-Apr-2019 17:30:06)...\n",
      "             |--- Elapsed time is 0.0022209 seconds.\n",
      "Action     = Load input \"v1_s3\" (started on 10-Apr-2019 17:30:06)...\n",
      "             |--- Elapsed time is 0.0023915 seconds.\n",
      "Action     = Compute instructions of function (started on 10-Apr-2019 17:30:06)...\n",
      "             |--- Elapsed time is 2.0136 seconds.\n",
      "Action     = Save matfile [matfile-v6] output \"m2_s1\" (started on 10-Apr-2019 17:30:08)...\n",
      "             |--- Elapsed time is 0.034985 seconds.\n",
      "Action     = Compute signature of output \"m2_s1\" (started on 10-Apr-2019 17:30:08)...\n",
      "             |--- Elapsed time is 0.012043 seconds.\n",
      "--- Function @fcnTestexp3 \"m3\" <leaf>\n",
      "Task       =   Third test function\n",
      "Input(s)   = [ m1_s1 | m2_s1 ]\n",
      "Output(s)  = [ m3_s3 ]\n",
      "Action     = Compute function signature (started on 10-Apr-2019 17:30:08)...\n",
      "             |--- Elapsed time is 1.2365 seconds.\n",
      "Decision   = COMPUTE (function changed)...\n",
      "Action     = Load input \"m1_s1\" (started on 10-Apr-2019 17:30:10)...\n",
      "             |--- Elapsed time is 0.0025545 seconds.\n",
      "Action     = Load input \"m2_s1\" (started on 10-Apr-2019 17:30:10)...\n",
      "             |--- Elapsed time is 0.0038214 seconds.\n",
      "Action     = Compute instructions of function (started on 10-Apr-2019 17:30:10)...\n",
      "5\n",
      "             |--- Elapsed time is 0.0030618 seconds.\n",
      "Action     = Save auto [matfile-v6] output \"m3_s3\" (started on 10-Apr-2019 17:30:10)...\n",
      "             |--- Elapsed time is 0.0066659 seconds.\n",
      "Action     = Compute signature of output \"m3_s3\" (started on 10-Apr-2019 17:30:10)...\n",
      "             |--- Elapsed time is 0.005139 seconds.\n",
      "Action     = Load input \"m3_s3\" (started on 10-Apr-2019 17:30:10)...\n",
      "             |--- Elapsed time is 0.0021581 seconds.\n",
      "\n"
     ]
    }
   ],
   "source": [
    "explo.setVariable('v1_s3',3);\n",
    "explo.run('-e:m3');\n",
    "data = explo.getVariable('m3_s3');"
   ]
  },
  {
   "cell_type": "markdown",
   "metadata": {},
   "source": [
    "## Figure\n",
    "\n",
    "After you init the graph with `explo.init()`, you can view different types of information to let you know about the status of the computational graph.\n",
    "\n",
    "\n",
    "* Status of computations (after `.run()`):<br>\n",
    "1) A node or edge is gray when the computation is not planned<br>\n",
    "2) A node or edge is blue when it is planned but not computed yet<br>\n",
    "3) A node or edge is orange when it is being computed at the current time<br>\n",
    "4) A node or edge is green when the computation is finished\n",
    "\n",
    "* Status of functions (after `.run()` and after computation or retrieval):<br>\n",
    "1) A function label is green when the result is retrieved<br>\n",
    "2) A function label is orange when the function content has changed and maybe also the inputs<br>\n",
    "3) A function label is blue hwne the function content is the same but inputs have changed<br>\n",
    "4) A function label is red when it was forced\n",
    "\n",
    "* Information on function arguments (on the figure):<br>\n",
    "You can view information on the function arguments by clicking on the nodes with the tooltip.\n",
    "\n",
    "* Shape of the nodes (on the figure):<br>\n",
    "1) A circle node represents a `'branch'` node.<br>\n",
    "2) A diamond node represents a `'leaf'` node.<br>\n",
    "3) A square node represents a `'root'` node.\n",
    "\n",
    "    \n",
    "\n"
   ]
  },
  {
   "cell_type": "markdown",
   "metadata": {},
   "source": [
    "## Run Examples\n",
    "\n",
    "You can also uncomment the following lines to run the nodes with another configuration."
   ]
  },
  {
   "cell_type": "code",
   "execution_count": 17,
   "metadata": {},
   "outputs": [
    {
     "name": "stdout",
     "output_type": "stream",
     "text": [
      "=== I/ CONTEXT\n",
      "Context name \"nbsession_26a0b20876a1f9a2e4df2a996232c94a\"\n",
      "1) Session \"sess1\": Last init = 10-Apr-2019 17:29:39 | Variable cache = 5 files - 3E+03 bytes\n",
      "\n",
      "=== II/ SESSION HISTORY\n",
      "Session name \"sess1\"\n",
      "1) Init (10-Apr-2019 17:29:39): 3 functions | 5 variables | 3 pipeline classes | File = \"20190410T172939099.mat\"\n",
      "--- Execution (10-Apr-2019 17:29:43): Command = \"-e:m3\" | Status = \"finished\" | Duration = 7.6427 seconds | Error = 1\n",
      "--- Execution (10-Apr-2019 17:30:06): Command = \"-e:m3\" | Status = \"finished\" | Duration = 3.7336 seconds | Error = 0\n",
      "\n",
      "=== III/ SESSION VARIABLES\n",
      "1) Variable \"m1_s2\": File = \"m1_s2.mat\" (10-Apr-2019 17:29:50) - 2E+03 bytes | Class = date\n",
      "2) Variable \"m1_s1\": File = \"m1_s1.mat\" (10-Apr-2019 17:29:50) - 2E+02 bytes | Class = matfile\n",
      "3) Variable \"m2_s1\": File = \"m2_s1.mat\" (10-Apr-2019 17:30:08) - 2E+02 bytes | Class = matfile\n",
      "4) Variable \"m3_s3\": File = \"m3_s3.mat\" (10-Apr-2019 17:30:10) - 2E+02 bytes | Class = auto\n",
      "5) Variable \"v1_s3\": File = \"v1_s3.mat\" (10-Apr-2019 17:30:06) - 2E+02 bytes | Class = auto\n",
      "\n",
      "=== IV/ SESSION FUNCTIONS\n",
      "1) Function @fcnTestexp1: Name = \"m1\" | Class = branch | Last change = 10-Apr-2019 17:07:20\n",
      "--- Inputs = [  ]\n",
      "--- Outputs = [ a \"m1_s1\" | b \"m1_s2\" ]\n",
      "--- Details \"edit('C:\\Users\\jahsue\\Desktop\\Code Repo\\explore\\example\\fcn\\fcnTestexp1.m')\":\n",
      "    >>>  First test function\n",
      "    >>>\n",
      "2) Function @fcnTestexp2: Name = \"m2\" | Class = branch | Last change = 10-Apr-2019 17:07:20\n",
      "--- Inputs = [ a \"m1_s2\" | b \"m1_s1\" | d \"v1_s3\" ]\n",
      "--- Outputs = [ c \"m2_s1\" ]\n",
      "--- Details \"edit('C:\\Users\\jahsue\\Desktop\\Code Repo\\explore\\example\\fcn\\fcnTestexp2.m')\":\n",
      "    >>>  Second test function\n",
      "    >>>\n",
      "3) Function @fcnTestexp3: Name = \"m3\" | Class = leaf | Last change = 10-Apr-2019 17:07:20\n",
      "--- Inputs = [ a \"m1_s1\" | b \"m2_s1\" ]\n",
      "--- Outputs = [ c \"m3_s3\" ]\n",
      "--- Details \"edit('C:\\Users\\jahsue\\Desktop\\Code Repo\\explore\\example\\fcn\\fcnTestexp3.m')\":\n",
      "    >>>  Third test function\n",
      "    >>>\n",
      "\n"
     ]
    }
   ],
   "source": [
    "% -- Run one class\n",
    "% explo.run('-c:root');\n",
    "\n",
    "% -- Run only needed nodes to compute end node\n",
    "% explo.run('-e:d4');\n",
    "\n",
    "% -- Run only needed nodes to compute end node and force their computation\n",
    "% explo.run('-e:d4-m:f');\n",
    "\n",
    "% -- Run all processing nodes\n",
    "% explo.run('-c:root');\n",
    "% explo.run('-c:branch');\n",
    "\n",
    "% -- Open the Matlab file in Matlab IDE\n",
    "% edit('testexp2.m')\n",
    "\n",
    "% -- Retrieve its absolute path\n",
    "% which('testexp2.m')\n",
    "\n",
    "% -- Get the experiment information\n",
    " explo.info()"
   ]
  },
  {
   "cell_type": "markdown",
   "metadata": {},
   "source": [
    "## Experiment Notes\n",
    "\n",
    "You can declare the experiment using the command `explo = Explore().session('sess')`.\n",
    "    \n",
    "* You can create multiple sessions for each context. The context is the script full path where `Explore()` is called from or the command line (when called from command line). All the caches and persistency will be defined and saved in the session `'sess'`. If you change the name or move the main script file, it will automatically create a new context. Changing sessions will allow to switch to different variable caches. This can be used for instance when switching from debug (small data set) to production (bigger one).\n",
    "\n",
    "* You can emulate an experiment creation or retrieval from another context (script or the command line) with the following commands: <br>\n",
    "1) `explo = Explore('')` emulates the expriment from the command line context<br>\n",
    "2) `explo = Explore('~/experiments/exp1.m')` emulates the experiment from the script `~/experiments/exp1.m` context<br>\n",
    "3) `explo = Explore(@exp1)` emulates the experiment from the script handle `@exp1` context<br>\n",
    "\n",
    "* With the command `explo.info()`, you can get information on the status of variables that are declared, the history of past `.init()` and `.run()` methods and also the different sessions of the context.\n",
    "\n",
    "\n",
    "## Graph Notes\n",
    "\n",
    "\n",
    "* The method `explo.addPip('s1','var')` adds a new pipe type. Data stored with this pipe are considered equal when the hash of the variable content is the same. This should be used only for reasonable variable sizes (<5-10 MB) caching, otherwise the hashing function will take too much time and you will loose the benefit of persistent memoization (generally deprecated, please use `'matfile'` pipe type).\n",
    "\n",
    "* The method `explo.addPip('s2','date')` adds a new pipe type. Data stored with this pipe are considered equal when the saved time is the same. This is more efficient with big data sizes (>1 GB).\n",
    "\n",
    "* The method `explo.addPip('s3','matfile')` adds a new pipe type. Data stored with this pipe are considered equal when the content of a `.mat` file without its header is the same. This is more efficient with standard data sizes. (5MB<size<1GB)\n",
    "\n",
    "* The method `explo.addFcn('m4',@pow1,{'m2_s1','m3_s1'},{'s1'})` adds a new computational node (like Python's decorator) called `'m4'` to the function `@pow1`, mapping the pipe `'s1'` from the decorator `'m2'` to the first input of `@pow1` and the pipe `'s1'` from the decorator `'m3'` to the second input of `@pow1`.\n",
    "\n",
    "* By default the node class is `'branch'` but you can change it to `'leaf'` or `'root'`, using for example, `explo.addFcn('m1',@data1,{},{'s1','s2'},'class','root')`. A `'root'` node will not be executed automatically. This is very useful when working with both small and big data sets. Usually, you use a small data set to validate your scripts and debug them, so you do not want to import the data every time but only on demand executing the specific class of nodes `'root'`. To switch to a bigger data set, you can processed the `'root'` nodes again by changing paths to point to the bigger data set. Typically, a `'leaf'` node should be a display node, i.e., no big computations should happen. Therefore, executing the `'branch'` nodes will trigger all the big computations without displaying their result (in `'leaf'` nodes) and  without building the data set again (in `'root'` nodes)\n",
    "\n",
    "* Because the semantic includes underscores to declare a variable  (output pipe from a node, e.g., `'m2_s1'`), the only restriction is that the pipe and node names should not contain any underscores.\n",
    "\n",
    "* To run the computation graph, use `explo.run()`. This will run by default  all the branch and leaf nodes. You can options to the method in order to compute only chosen nodes:<br>\n",
    "1) Class run: `explo.run('-c:root')` will compute only all the `'root'` nodes<br>\n",
    "2) Solo run: `explo.run('-s:m1')` will compute or retrieve only node `'m1'`<br>\n",
    "3) End run: `explo.run('-e:m1')` will compute or retrieve only the nodes needed to obtain the output of node `'m1'`<br>\n",
    "4) Run with another mode: `explo.run('-s:m1-m:f')` will force to compute the node `'m1'` even if the result could be retrieved, i.e., even if the inputs and the function content and dependencies did not have changed.<br>\n",
    "\n"
   ]
  },
  {
   "cell_type": "markdown",
   "metadata": {},
   "source": []
  }
 ],
 "metadata": {
  "kernelspec": {
   "display_name": "Matlab",
   "language": "matlab",
   "name": "matlab"
  },
  "language_info": {
   "codemirror_mode": "octave",
   "file_extension": ".m",
   "help_links": [
    {
     "text": "MetaKernel Magics",
     "url": "https://github.com/calysto/metakernel/blob/master/metakernel/magics/README.md"
    }
   ],
   "mimetype": "text/x-octave",
   "name": "matlab",
   "version": "0.15.1"
  }
 },
 "nbformat": 4,
 "nbformat_minor": 2
}
