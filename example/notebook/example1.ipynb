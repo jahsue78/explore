{
 "cells": [
  {
   "cell_type": "markdown",
   "metadata": {},
   "source": [
    "# Example 1\n",
    "\n",
    "This an example of a typical graphflow that can be used to experiment things.\n",
    "\n",
    "## Setup\n",
    "\n",
    "Setup script to launch the Matlab environment"
   ]
  },
  {
   "cell_type": "code",
   "execution_count": 1,
   "metadata": {},
   "outputs": [
    {
     "name": "stdout",
     "output_type": "stream",
     "text": [
      "Project root C:\\Users\\jahsue\\PycharmProjects\\dissertation\\src\\code\\matlab\n",
      "Configuration loaded from C:\\Users\\jahsue\\PycharmProjects\\dissertation\\src\\code\\matlab\\config.json\n",
      "Seed up-to-date\n",
      "\n"
     ]
    }
   ],
   "source": [
    "run([topseed() filesep 'setup.m'])"
   ]
  },
  {
   "cell_type": "markdown",
   "metadata": {},
   "source": [
    "## Experiment\n"
   ]
  },
  {
   "cell_type": "code",
   "execution_count": 2,
   "metadata": {},
   "outputs": [
    {
     "name": "stdout",
     "output_type": "stream",
     "text": [
      "Retrieve existing work session \"sess1\" for context \"nbsession_30b33662d68565678864d6bd8ec7e6ab\"\n",
      "\n"
     ]
    }
   ],
   "source": [
    "%plot native\n",
    "\n",
    "sess = 'sess1';\n",
    "explo = nbsession(sess);\n",
    "\n",
    "switch sess\n",
    "    case 'sess1'\n",
    "        fcn = @Testexp1;\n",
    "    case 'sess2'\n",
    "        fcn = @Testexp1bis;\n",
    "end\n",
    "\n",
    "explo.addPip('s1','matfile');\n",
    "explo.addPip('s2','date');\n",
    "\n",
    "explo.addFcn('m1',fcn,{},{'s1','s2'},'class','branch');\n",
    "explo.addFcn('m2',@Testexp2,{'m1_s2','m1_s1'},{'s1'});\n",
    "explo.addFcn('m3',@Testexp3,{'m1_s1','m2_s1'},{},'class','leaf');\n",
    "\n",
    "\n",
    "explo.init();"
   ]
  },
  {
   "cell_type": "markdown",
   "metadata": {},
   "source": [
    "## Commands\n",
    "\n",
    "List of commands commonly used:\n",
    "\n",
    "Run until node m3 `explo.run('-e:m3');` <br>\n",
    "Run one class `explo.run('-c:root');`<br>\n",
    "Run only needed nodes to compute end node `explo.run('-e:d4');`<br>\n",
    "Run only needed nodes to compute end node and force their computation `explo.run('-e:d4-m:f');`<br>\n",
    "Run all processing nodes `explo.run('-c:root');` or `explo.run('-c:branch');`<br>\n",
    "Open the Matlab file in Matlab IDE `edit('testexp2.m');`<br>\n",
    "Retrieve its absolute path `which('testexp2.m');`<br>\n",
    "Get the experiment information `explo.info()`<br>"
   ]
  },
  {
   "cell_type": "markdown",
   "metadata": {},
   "source": [
    "## Run"
   ]
  },
  {
   "cell_type": "code",
   "execution_count": 4,
   "metadata": {},
   "outputs": [
    {
     "name": "stdout",
     "output_type": "stream",
     "text": [
      "--- Function @Testexp1 \"m1\" <branch>\n",
      "Task       =   First test function\n",
      "Input(s)   = [  ]\n",
      "Output(s)  = [ m1_s1 | m1_s2 ]\n",
      "Action     = Compute function signature (started on 22-Oct-2018 15:14:15)...\n",
      "             |--- Elapsed time is 0.05489 seconds.\n",
      "Decision   = RETRIEVE (same signatures)...\n",
      "--- Function @Testexp2 \"m2\" <branch>\n",
      "Task       =   Second test function\n",
      "Input(s)   = [ m1_s2 | m1_s1 ]\n",
      "Output(s)  = [ m2_s1 ]\n",
      "Action     = Compute function signature (started on 22-Oct-2018 15:14:15)...\n",
      "             |--- Elapsed time is 0.040777 seconds.\n",
      "Decision   = RETRIEVE (same signatures)...\n",
      "--- Function @Testexp3 \"m3\" <leaf>\n",
      "Task       =   Third test function\n",
      "Input(s)   = [ m1_s1 | m2_s1 ]\n",
      "Output(s)  = [  ]\n",
      "Action     = Compute function signature (started on 22-Oct-2018 15:14:16)...\n",
      "             |--- Elapsed time is 0.034319 seconds.\n",
      "Decision   = RETRIEVE (same signatures)...\n",
      "\n"
     ]
    }
   ],
   "source": [
    "explo.run('-e:m3');"
   ]
  },
  {
   "cell_type": "markdown",
   "metadata": {},
   "source": [
    "## Info"
   ]
  },
  {
   "cell_type": "code",
   "execution_count": 5,
   "metadata": {},
   "outputs": [
    {
     "name": "stdout",
     "output_type": "stream",
     "text": [
      "=== I/ CONTEXT\n",
      "Context name \"nbsession_30b33662d68565678864d6bd8ec7e6ab\"\n",
      "1) Session \"sess1\": Last init = 22-Oct-2018 15:14:04 | Variable cache = 3 files - 6E+02 bytes\n",
      "2) Session \"sess2\": Last init = 26-Sep-2018 16:42:22 | Variable cache = 3 files - 6E+02 bytes\n",
      "\n",
      "=== II/ SESSION HISTORY\n",
      "Session name \"sess1\"\n",
      "1) Init (26-Sep-2018 13:55:15): 3 functions | 3 variables | 2 pipeline classes | File = \"20180926T135515147.mat\"\n",
      "--- Execution (26-Sep-2018 13:55:19): Command = \"-e:m3\" | Status = \"finished\" | Duration = 0.64628 seconds | Error = 0\n",
      "2) Init (26-Sep-2018 14:16:41): 3 functions | 3 variables | 2 pipeline classes | File = \"20180926T141641481.mat\"\n",
      "3) Init (26-Sep-2018 14:35:34): 3 functions | 3 variables | 2 pipeline classes | File = \"20180926T143534377.mat\"\n",
      "4) Init (26-Sep-2018 14:36:17): 3 functions | 3 variables | 2 pipeline classes | File = \"20180926T143617687.mat\"\n",
      "--- Execution (26-Sep-2018 14:36:23): Command = \"-e:m3\" | Status = \"finished\" | Duration = 0.93641 seconds | Error = 0\n",
      "5) Init (26-Sep-2018 14:46:34): 3 functions | 3 variables | 2 pipeline classes | File = \"20180926T144634708.mat\"\n",
      "--- Execution (26-Sep-2018 14:46:37): Command = \"-e:m3\" | Status = \"finished\" | Duration = 0.6108 seconds | Error = 0\n",
      "--- Execution (26-Sep-2018 14:47:36): Command = \"-e:m3\" | Status = \"finished\" | Duration = 0.55894 seconds | Error = 0\n",
      "6) Init (26-Sep-2018 16:18:23): 3 functions | 3 variables | 2 pipeline classes | File = \"20180926T161823637.mat\"\n",
      "--- Execution (26-Sep-2018 16:18:38): Command = \"-e:m3\" | Status = \"finished\" | Duration = 2.2369 seconds | Error = 0\n",
      "--- Execution (26-Sep-2018 16:21:25): Command = \"-e:m3\" | Status = \"finished\" | Duration = 1.1969 seconds | Error = 0\n",
      "--- Execution (26-Sep-2018 16:21:50): Command = \"-e:m3\" | Status = \"finished\" | Duration = 1.0882 seconds | Error = 0\n",
      "7) Init (26-Sep-2018 16:43:19): 3 functions | 3 variables | 2 pipeline classes | File = \"20180926T164319466.mat\"\n",
      "--- Execution (26-Sep-2018 16:44:26): Command = \"-s:m3\" | Status = \"finished\" | Duration = 0.66891 seconds | Error = 0\n",
      "8) Init (27-Sep-2018 13:51:18): 3 functions | 3 variables | 2 pipeline classes | File = \"20180927T135118253.mat\"\n",
      "--- Execution (27-Sep-2018 13:51:24): Command = \"-s:m3\" | Status = \"finished\" | Duration = 0.75681 seconds | Error = 0\n",
      "9) Init (10-Oct-2018 13:54:17): 3 functions | 3 variables | 2 pipeline classes | File = \"20181010T135417515.mat\"\n",
      "--- Execution (10-Oct-2018 13:54:29): Command = \"-s:m3\" | Status = \"finished\" | Duration = 1.7128 seconds | Error = 0\n",
      "--- Execution (10-Oct-2018 13:54:48): Command = \"-e:m3\" | Status = \"finished\" | Duration = 1.1801 seconds | Error = 0\n",
      "10) Init (22-Oct-2018 15:14:04): 3 functions | 3 variables | 2 pipeline classes | File = \"20181022T151404212.mat\"\n",
      "--- Execution (22-Oct-2018 15:14:14): Command = \"-e:m3\" | Status = \"finished\" | Duration = 2.1445 seconds | Error = 0\n",
      "\n",
      "=== III/ SESSION VARIABLES\n",
      "1) Variable \"m1_s1\": File = \"m1_s1.mat\" (26-Sep-2018 10:02:06) - 2E+02 bytes | Class = matfile\n",
      "2) Variable \"m1_s2\": File = \"m1_s2.mat\" (26-Sep-2018 10:02:06) - 2E+02 bytes | Class = date\n",
      "3) Variable \"m2_s1\": File = \"m2_s1.mat\" (26-Sep-2018 10:02:08) - 2E+02 bytes | Class = matfile\n",
      "\n",
      "=== IV/ SESSION FUNCTIONS\n",
      "1) Function @Testexp1: Name = \"m1\" | Class = branch | Last change = 25-Sep-2018 17:52:09\n",
      "--- Inputs = [  ]\n",
      "--- Outputs = [ a \"m1_s1\" | b \"m1_s2\" ]\n",
      "--- Details \"edit('C:\\Users\\jahsue\\PycharmProjects\\dissertation\\src\\code\\matlab\\lib\\test\\Testexp1.m')\":\n",
      "    >>>  First test function\n",
      "    >>>\n",
      "2) Function @Testexp2: Name = \"m2\" | Class = branch | Last change = 25-Sep-2018 17:51:37\n",
      "--- Inputs = [ a \"m1_s2\" | b \"m1_s1\" ]\n",
      "--- Outputs = [ c \"m2_s1\" ]\n",
      "--- Details \"edit('C:\\Users\\jahsue\\PycharmProjects\\dissertation\\src\\code\\matlab\\lib\\test\\Testexp2.m')\":\n",
      "    >>>  Second test function\n",
      "    >>>\n",
      "3) Function @Testexp3: Name = \"m3\" | Class = leaf | Last change = 25-Sep-2018 17:51:56\n",
      "--- Inputs = [ a \"m1_s1\" | b \"m2_s1\" ]\n",
      "--- Outputs = [  ]\n",
      "--- Details \"edit('C:\\Users\\jahsue\\PycharmProjects\\dissertation\\src\\code\\matlab\\lib\\test\\Testexp3.m')\":\n",
      "    >>>  Third test function\n",
      "    >>>\n",
      "\n"
     ]
    }
   ],
   "source": [
    "explo.info()"
   ]
  }
 ],
 "metadata": {
  "kernelspec": {
   "display_name": "Matlab",
   "language": "matlab",
   "name": "matlab"
  },
  "language_info": {
   "codemirror_mode": "octave",
   "file_extension": ".m",
   "help_links": [
    {
     "text": "MetaKernel Magics",
     "url": "https://github.com/calysto/metakernel/blob/master/metakernel/magics/README.md"
    }
   ],
   "mimetype": "text/x-octave",
   "name": "matlab",
   "version": "0.15.1"
  }
 },
 "nbformat": 4,
 "nbformat_minor": 2
}
